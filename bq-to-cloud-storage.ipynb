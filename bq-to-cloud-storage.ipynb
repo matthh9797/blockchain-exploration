{
 "cells": [
  {
   "cell_type": "markdown",
   "id": "c3fa8d99-c0a8-4e82-a570-3728323b91fd",
   "metadata": {},
   "source": [
    "# BiqQuery to Cloud Storage"
   ]
  },
  {
   "cell_type": "markdown",
   "id": "625e661d-9f05-4b55-980b-e5c88160b362",
   "metadata": {},
   "source": [
    "This notebook shows how to execute a query against bigquery and store the results in BigQuery."
   ]
  },
  {
   "cell_type": "code",
   "execution_count": null,
   "id": "09538106-5145-4786-a3d4-f5923788fe05",
   "metadata": {},
   "outputs": [],
   "source": [
    "# Libraries ... \n",
    "from google.cloud import bigquery\n",
    "import datetime\n",
    "import utils.bq_to_storage"
   ]
  },
  {
   "cell_type": "code",
   "execution_count": null,
   "id": "e213e3e5-ea3a-4fbd-93d4-599383ebb4f5",
   "metadata": {},
   "outputs": [],
   "source": [
    "# Query Parameters\n",
    "FILE = 'ethereum-transacting-partner-count'\n",
    "SQL_PATH = 'sql/' + FILE + '.sql'\n",
    "\n",
    "# Storage Parameters\n",
    "BUCKET_URI = 'gs://blockchain-exploration/queries'\n",
    "todaysDate = datetime.date.today().strftime('%Y-%m-%d');"
   ]
  },
  {
   "cell_type": "code",
   "execution_count": null,
   "id": "8c607a31-7549-48fc-bf8b-0ddd60d697be",
   "metadata": {},
   "outputs": [],
   "source": [
    "bqclient = bigquery.Client()"
   ]
  },
  {
   "cell_type": "code",
   "execution_count": null,
   "id": "07054239-8fbe-4688-bd8b-5e6fb4ec1a08",
   "metadata": {},
   "outputs": [],
   "source": [
    "QUERY = open(SQL_PATH).read()"
   ]
  },
  {
   "cell_type": "code",
   "execution_count": null,
   "id": "f30a241d-29d2-484e-8f23-d3d295bfbd71",
   "metadata": {},
   "outputs": [],
   "source": [
    "dataframe = (\n",
    "    bqclient.query(QUERY)\n",
    "    .result()\n",
    "    .to_dataframe(\n",
    "        create_bqstorage_client=True,\n",
    "    )\n",
    ")"
   ]
  },
  {
   "cell_type": "code",
   "execution_count": null,
   "id": "3d8791ba-80f3-4c0e-8b02-0d9c6af02d1e",
   "metadata": {},
   "outputs": [],
   "source": [
    "filename = \"{}/{}-{}.csv\".format(BUCKET_URI, todaysDate, FILE)\n",
    "dataframe.to_csv(filename)"
   ]
  },
  {
   "cell_type": "code",
   "execution_count": null,
   "id": "34ef500b-47ef-4a05-ae0f-2155654f6a01",
   "metadata": {},
   "outputs": [],
   "source": [
    "# Test function with new params\n",
    "bq_to_storage('bitcoin-zero-fee')"
   ]
  },
  {
   "cell_type": "code",
   "execution_count": null,
   "id": "353386ce-8202-4d3f-a3c8-cbea9bfbb250",
   "metadata": {},
   "outputs": [],
   "source": [
    "%%bigquery df\n",
    "WITH double_entry_book AS (\n",
    "   -- debits\n",
    "   SELECT\n",
    "    array_to_string(inputs.addresses, \",\") as address\n",
    "   , inputs.type\n",
    "   , -inputs.value as value\n",
    "   FROM `bigquery-public-data.crypto_bitcoin.inputs` as inputs\n",
    "   UNION ALL\n",
    "   -- credits\n",
    "   SELECT\n",
    "    array_to_string(outputs.addresses, \",\") as address\n",
    "   , outputs.type\n",
    "   , outputs.value as value\n",
    "   FROM `bigquery-public-data.crypto_bitcoin.outputs` as outputs\n",
    ")\n",
    "SELECT\n",
    "   address\n",
    ",   type   \n",
    ",   sum(value) as balance\n",
    "FROM double_entry_book\n",
    "GROUP BY 1,2\n",
    "ORDER BY balance DESC\n",
    "LIMIT 1000"
   ]
  }
 ],
 "metadata": {
  "environment": {
   "kernel": "conda-root-py",
   "name": "tf-gpu.1-15.m82",
   "type": "gcloud",
   "uri": "gcr.io/deeplearning-platform-release/tf-gpu.1-15:m82"
  },
  "kernelspec": {
   "display_name": "Python [conda env:root] *",
   "language": "python",
   "name": "conda-root-py"
  },
  "language_info": {
   "codemirror_mode": {
    "name": "ipython",
    "version": 3
   },
   "file_extension": ".py",
   "mimetype": "text/x-python",
   "name": "python",
   "nbconvert_exporter": "python",
   "pygments_lexer": "ipython3",
   "version": "3.7.10"
  }
 },
 "nbformat": 4,
 "nbformat_minor": 5
}
