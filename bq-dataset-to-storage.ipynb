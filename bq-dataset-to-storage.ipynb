{
 "cells": [
  {
   "cell_type": "markdown",
   "id": "9987a0a2-7aa0-4104-b897-d68533e0a4c3",
   "metadata": {},
   "source": [
    "# BigQuery all datasets to storage"
   ]
  },
  {
   "cell_type": "code",
   "execution_count": null,
   "id": "0e3becc7-f6c8-495b-94ef-9a7bd537a8f4",
   "metadata": {},
   "outputs": [],
   "source": [
    "from utils.bq_dataset_to_storage import bq_dataset_to_storage"
   ]
  },
  {
   "cell_type": "code",
   "execution_count": null,
   "id": "2d24b6dd-5567-4102-b0c9-e4bde8373f0b",
   "metadata": {},
   "outputs": [],
   "source": [
    "from google.cloud import bigquery\n",
    "\n",
    "# Construct a BigQuery client object.\n",
    "client = bigquery.Client()\n",
    "\n",
    "# TODO(developer): Set dataset_id to the ID of the dataset that contains\n",
    "#                  the tables you are listing.\n",
    "dataset_id = 'bigquery-public-data.crypto_bitcoin'\n",
    "\n",
    "tables = client.list_tables(dataset_id)  # Make an API request."
   ]
  },
  {
   "cell_type": "code",
   "execution_count": null,
   "id": "518bce23-4eb0-4bbf-9e44-60c94291f3d7",
   "metadata": {},
   "outputs": [],
   "source": [
    "print(\"Tables contained in '{}':\".format(dataset_id))\n",
    "for table in tables:\n",
    "    query = \"select * from `{}.{}.{}`\".format(table.project, table.dataset_id, table.table_id)\n",
    "    print(query)\n",
    "    dataframe = (\n",
    "        bqclient.query(QUERY)\n",
    "        .result()\n",
    "        .to_dataframe(\n",
    "            create_bqstorage_client=True,\n",
    "        )\n",
    "    )\n",
    "    \n",
    "    filename = \"{}/{}-{}.csv\".format(BUCKET_URI, table.dataset_id, table.table_id)\n",
    "    dataframe.to_csv(filename)    "
   ]
  },
  {
   "cell_type": "code",
   "execution_count": null,
   "id": "8fc300ea-ce5b-4c1f-93a3-c009dd66d7ac",
   "metadata": {},
   "outputs": [],
   "source": [
    "# Test function\n",
    "bucket_name = 'data-science-on-gcp-323609-test'\n",
    "dataset_id = 'data-science-on-gcp-323609.test'\n",
    "bq_dataset_to_storage(bucket_name, dataset_id)"
   ]
  }
 ],
 "metadata": {
  "environment": {
   "kernel": "python3",
   "name": "tf-gpu.1-15.m82",
   "type": "gcloud",
   "uri": "gcr.io/deeplearning-platform-release/tf-gpu.1-15:m82"
  },
  "kernelspec": {
   "display_name": "Python 3",
   "language": "python",
   "name": "python3"
  },
  "language_info": {
   "codemirror_mode": {
    "name": "ipython",
    "version": 3
   },
   "file_extension": ".py",
   "mimetype": "text/x-python",
   "name": "python",
   "nbconvert_exporter": "python",
   "pygments_lexer": "ipython3",
   "version": "3.7.10"
  }
 },
 "nbformat": 4,
 "nbformat_minor": 5
}
